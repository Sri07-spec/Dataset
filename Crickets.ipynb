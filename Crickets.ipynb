{
  "nbformat": 4,
  "nbformat_minor": 0,
  "metadata": {
    "colab": {
      "name": "Crickets",
      "provenance": [],
      "collapsed_sections": [],
      "authorship_tag": "ABX9TyOLLW40ANEdwfH3ISBzrnyJ",
      "include_colab_link": true
    },
    "kernelspec": {
      "name": "python3",
      "display_name": "Python 3"
    }
  },
  "cells": [
    {
      "cell_type": "markdown",
      "metadata": {
        "id": "view-in-github",
        "colab_type": "text"
      },
      "source": [
        "<a href=\"https://colab.research.google.com/github/Sri07-spec/Linear_Regression/blob/master/Crickets.ipynb\" target=\"_parent\"><img src=\"https://colab.research.google.com/assets/colab-badge.svg\" alt=\"Open In Colab\"/></a>"
      ]
    },
    {
      "cell_type": "markdown",
      "metadata": {
        "id": "yR3Hz07GJkna",
        "colab_type": "text"
      },
      "source": [
        "**Simple Linear Regression**\n",
        "\n",
        "\n",
        "> We will be working with a dataset that relates the **rate of cricket chirps** to the **temperature**.\n",
        "\n",
        "> ***Count of chirps per minute*** is the independent variable(X) used to  predict the dependent variable(Y), ***temperature***. \n",
        "\n",
        "> In short,we will be creating a **cricket thermometer** that predicts the temperature.\n"
      ]
    },
    {
      "cell_type": "code",
      "metadata": {
        "id": "gq83PbqgQUXy",
        "colab_type": "code",
        "colab": {}
      },
      "source": [
        "#importing the libraries\n",
        "import numpy as np\n",
        "import pandas as pd\n",
        "import matplotlib.pyplot as plt"
      ],
      "execution_count": null,
      "outputs": []
    },
    {
      "cell_type": "code",
      "metadata": {
        "id": "d3kaEEAdQ0Tk",
        "colab_type": "code",
        "colab": {
          "base_uri": "https://localhost:8080/",
          "height": 289
        },
        "outputId": "5ff50904-b601-4089-ea9b-03e4bfde33c6"
      },
      "source": [
        "#loading the dataset\n",
        "dataset=pd.read_csv('https://raw.githubusercontent.com/Sri07-spec/Linear_Regression/master/CricketsChirpsVsTemperature.csv')\n",
        "print(dataset)\n",
        "X = dataset.iloc[:, :-1].values #get a copy of dataset exclude last column\n",
        "y = dataset.iloc[:, 1].values #get array of dataset in column 1st"
      ],
      "execution_count": null,
      "outputs": [
        {
          "output_type": "stream",
          "text": [
            "            X          Y\n",
            "0   20.000000  88.599998\n",
            "1   16.000000  71.599998\n",
            "2   19.799999  93.300003\n",
            "3   18.400000  84.300003\n",
            "4   17.100000  80.599998\n",
            "5   15.500000  75.199997\n",
            "6   14.700000  69.699997\n",
            "7   17.100000  82.000000\n",
            "8   15.400000  69.400002\n",
            "9   16.200001  83.300003\n",
            "10  15.000000  79.599998\n",
            "11  17.200001  82.599998\n",
            "12  16.000000  80.599998\n",
            "13  17.000000  83.500000\n",
            "14  14.400000  76.300003\n"
          ],
          "name": "stdout"
        }
      ]
    },
    {
      "cell_type": "code",
      "metadata": {
        "id": "zgBW-aeOugsW",
        "colab_type": "code",
        "colab": {
          "base_uri": "https://localhost:8080/",
          "height": 289
        },
        "outputId": "ec11f832-5ae2-4cef-d3ea-a7337865be48"
      },
      "source": [
        "#renaming the columns\n",
        "dataset = dataset.rename(columns={\"X\": \"Chirps_Per_Min\", \"Y\": \"Temperature\"})\n",
        "print(dataset)"
      ],
      "execution_count": null,
      "outputs": [
        {
          "output_type": "stream",
          "text": [
            "    Chirps_Per_Min  Temperature\n",
            "0        20.000000    88.599998\n",
            "1        16.000000    71.599998\n",
            "2        19.799999    93.300003\n",
            "3        18.400000    84.300003\n",
            "4        17.100000    80.599998\n",
            "5        15.500000    75.199997\n",
            "6        14.700000    69.699997\n",
            "7        17.100000    82.000000\n",
            "8        15.400000    69.400002\n",
            "9        16.200001    83.300003\n",
            "10       15.000000    79.599998\n",
            "11       17.200001    82.599998\n",
            "12       16.000000    80.599998\n",
            "13       17.000000    83.500000\n",
            "14       14.400000    76.300003\n"
          ],
          "name": "stdout"
        }
      ]
    },
    {
      "cell_type": "code",
      "metadata": {
        "id": "qyJqy-F5vGn5",
        "colab_type": "code",
        "colab": {
          "base_uri": "https://localhost:8080/",
          "height": 297
        },
        "outputId": "f6cd36fe-5470-4c01-b7d5-9ad14f88c984"
      },
      "source": [
        "#describing the dataset\n",
        "dataset.describe()"
      ],
      "execution_count": null,
      "outputs": [
        {
          "output_type": "execute_result",
          "data": {
            "text/html": [
              "<div>\n",
              "<style scoped>\n",
              "    .dataframe tbody tr th:only-of-type {\n",
              "        vertical-align: middle;\n",
              "    }\n",
              "\n",
              "    .dataframe tbody tr th {\n",
              "        vertical-align: top;\n",
              "    }\n",
              "\n",
              "    .dataframe thead th {\n",
              "        text-align: right;\n",
              "    }\n",
              "</style>\n",
              "<table border=\"1\" class=\"dataframe\">\n",
              "  <thead>\n",
              "    <tr style=\"text-align: right;\">\n",
              "      <th></th>\n",
              "      <th>Chirps_Per_Min</th>\n",
              "      <th>Temperature</th>\n",
              "    </tr>\n",
              "  </thead>\n",
              "  <tbody>\n",
              "    <tr>\n",
              "      <th>count</th>\n",
              "      <td>15.000000</td>\n",
              "      <td>15.000000</td>\n",
              "    </tr>\n",
              "    <tr>\n",
              "      <th>mean</th>\n",
              "      <td>16.653333</td>\n",
              "      <td>80.040000</td>\n",
              "    </tr>\n",
              "    <tr>\n",
              "      <th>std</th>\n",
              "      <td>1.702044</td>\n",
              "      <td>6.707332</td>\n",
              "    </tr>\n",
              "    <tr>\n",
              "      <th>min</th>\n",
              "      <td>14.400000</td>\n",
              "      <td>69.400002</td>\n",
              "    </tr>\n",
              "    <tr>\n",
              "      <th>25%</th>\n",
              "      <td>15.450000</td>\n",
              "      <td>75.750000</td>\n",
              "    </tr>\n",
              "    <tr>\n",
              "      <th>50%</th>\n",
              "      <td>16.200001</td>\n",
              "      <td>80.599998</td>\n",
              "    </tr>\n",
              "    <tr>\n",
              "      <th>75%</th>\n",
              "      <td>17.150001</td>\n",
              "      <td>83.400002</td>\n",
              "    </tr>\n",
              "    <tr>\n",
              "      <th>max</th>\n",
              "      <td>20.000000</td>\n",
              "      <td>93.300003</td>\n",
              "    </tr>\n",
              "  </tbody>\n",
              "</table>\n",
              "</div>"
            ],
            "text/plain": [
              "       Chirps_Per_Min  Temperature\n",
              "count       15.000000    15.000000\n",
              "mean        16.653333    80.040000\n",
              "std          1.702044     6.707332\n",
              "min         14.400000    69.400002\n",
              "25%         15.450000    75.750000\n",
              "50%         16.200001    80.599998\n",
              "75%         17.150001    83.400002\n",
              "max         20.000000    93.300003"
            ]
          },
          "metadata": {
            "tags": []
          },
          "execution_count": 5
        }
      ]
    },
    {
      "cell_type": "code",
      "metadata": {
        "id": "Q-hpIbZKLNY1",
        "colab_type": "code",
        "colab": {
          "base_uri": "https://localhost:8080/",
          "height": 297
        },
        "outputId": "2c8dd822-45f3-4898-a1ec-55e96189ff1f"
      },
      "source": [
        "plt.xlabel(\"Chirps_Per_Min\")\n",
        "plt.ylabel(\"Temperature\")\n",
        "plt.scatter(X,y)"
      ],
      "execution_count": null,
      "outputs": [
        {
          "output_type": "execute_result",
          "data": {
            "text/plain": [
              "<matplotlib.collections.PathCollection at 0x7f32b15b1898>"
            ]
          },
          "metadata": {
            "tags": []
          },
          "execution_count": 6
        },
        {
          "output_type": "display_data",
          "data": {
            "image/png": "[encoded data removed]",
            "text/plain": [
              "<Figure size 432x288 with 1 Axes>"
            ]
          },
          "metadata": {
            "tags": [],
            "needs_background": "light"
          }
        }
      ]
    },
    {
      "cell_type": "code",
      "metadata": {
        "id": "bO1bkD0XvTAq",
        "colab_type": "code",
        "colab": {}
      },
      "source": [
        "#Splitting the dataset into training and testing sets\n",
        "from sklearn.model_selection import train_test_split #module to be imported from sklearn\n",
        "X_train, X_test, y_train, y_test = train_test_split(X, y, test_size = 1/3, random_state = 0)"
      ],
      "execution_count": null,
      "outputs": []
    },
    {
      "cell_type": "code",
      "metadata": {
        "id": "COq_-veXw7ho",
        "colab_type": "code",
        "colab": {
          "base_uri": "https://localhost:8080/",
          "height": 34
        },
        "outputId": "fb47d29f-481a-4ee7-c6b6-6d7737a3b18a"
      },
      "source": [
        "#Fitting the data to the training set\n",
        "from sklearn.linear_model import LinearRegression\n",
        "\n",
        "regressor = LinearRegression()    # This object is the regressor, that does the regression\n",
        "regressor.fit(X_train, y_train)   # Provide training data so the machine can learn to predict using a learned model"
      ],
      "execution_count": null,
      "outputs": [
        {
          "output_type": "execute_result",
          "data": {
            "text/plain": [
              "LinearRegression(copy_X=True, fit_intercept=True, n_jobs=None, normalize=False)"
            ]
          },
          "metadata": {
            "tags": []
          },
          "execution_count": 9
        }
      ]
    },
    {
      "cell_type": "code",
      "metadata": {
        "id": "edMWwkNDxTfS",
        "colab_type": "code",
        "colab": {
          "base_uri": "https://localhost:8080/",
          "height": 34
        },
        "outputId": "f11466cd-6fe8-41c6-b49f-7cd0982b078f"
      },
      "source": [
        "#Predicting the results\n",
        "y_pred = regressor.predict(X_test)\n",
        "print(y_pred)"
      ],
      "execution_count": null,
      "outputs": [
        {
          "output_type": "stream",
          "text": [
            "[79.49587883 75.98873574 77.87719662 80.03544128 75.17939463]\n"
          ],
          "name": "stdout"
        }
      ]
    },
    {
      "cell_type": "code",
      "metadata": {
        "id": "XYiEjbvjxz18",
        "colab_type": "code",
        "colab": {
          "base_uri": "https://localhost:8080/",
          "height": 295
        },
        "outputId": "71c870b0-980d-42e1-e300-3e35b399da5f"
      },
      "source": [
        "#Visualizing the data\n",
        "#Training set\n",
        "plt.scatter(X_train, y_train, color = 'red')\n",
        "plt.plot(X_train, regressor.predict(X_train), color = 'blue')\n",
        "\n",
        "plt.title('Temperature based on chirp count (Training set)')\n",
        "plt.xlabel('Chirps/min')\n",
        "plt.ylabel('Temperature')\n",
        "\n",
        "plt.show()\n",
        "\n"
      ],
      "execution_count": null,
      "outputs": [
        {
          "output_type": "display_data",
          "data": {
            "image/png": "[encoded data removed]",
            "text/plain": [
              "<Figure size 432x288 with 1 Axes>"
            ]
          },
          "metadata": {
            "tags": [],
            "needs_background": "light"
          }
        }
      ]
    },
    {
      "cell_type": "code",
      "metadata": {
        "id": "g5AXIG5-QBHM",
        "colab_type": "code",
        "colab": {
          "base_uri": "https://localhost:8080/",
          "height": 295
        },
        "outputId": "59834304-cd33-419a-85a6-263e6d31313e"
      },
      "source": [
        "#Visualizing the data\n",
        "#Testing Set\n",
        "plt.scatter(X_test, y_test, color = 'red')\n",
        "plt.plot(X_train, regressor.predict(X_train), color = 'blue')\n",
        "\n",
        "plt.title('Temperature based on chirp count (Test set)')\n",
        "plt.xlabel('Chirps/min')\n",
        "plt.ylabel('Temperature')\n",
        "\n",
        "plt.show()"
      ],
      "execution_count": null,
      "outputs": [
        {
          "output_type": "display_data",
          "data": {
            "image/png": "[encoded data removed]",
            "text/plain": [
              "<Figure size 432x288 with 1 Axes>"
            ]
          },
          "metadata": {
            "tags": [],
            "needs_background": "light"
          }
        }
      ]
    },
    {
      "cell_type": "code",
      "metadata": {
        "id": "okwv5aqiQuI6",
        "colab_type": "code",
        "colab": {
          "base_uri": "https://localhost:8080/",
          "height": 295
        },
        "outputId": "e8a3f884-a297-40e9-d01d-49b029693191"
      },
      "source": [
        "#Visualizing the data\n",
        "#Both test and training set\n",
        "plt.scatter(X_train, y_train, color = 'green') #Training data\n",
        "plt.scatter(X_test, y_test, color = 'red')  #Test data \n",
        "plt.scatter(X_test, y_pred, color = 'blue')  # The predicted temperatures of the same X_test input.\n",
        "plt.plot(X_train, regressor.predict(X_train), color = 'gray') #Regression\n",
        "\n",
        "plt.title('Temperature based on chirp count')\n",
        "plt.xlabel('Chirps/minute')\n",
        "plt.ylabel('Temperature')\n",
        "\n",
        "plt.show()"
      ],
      "execution_count": null,
      "outputs": [
        {
          "output_type": "display_data",
          "data": {
            "image/png": "[encoded data removed]",
            "text/plain": [
              "<Figure size 432x288 with 1 Axes>"
            ]
          },
          "metadata": {
            "tags": [],
            "needs_background": "light"
          }
        }
      ]
    },
    {
      "cell_type": "code",
      "metadata": {
        "id": "-T65Q93PNOAT",
        "colab_type": "code",
        "colab": {
          "base_uri": "https://localhost:8080/",
          "height": 85
        },
        "outputId": "15e06e76-39d9-4d46-d540-c5556c212555"
      },
      "source": [
        "X = float(input(\"Enter the number of cricket chirps  \"))\n",
        "\n",
        "X = np.array([X]).reshape(-1, 1)\n",
        "y = regressor.predict(X)\n",
        "\n",
        "print(f\"\\n\\n The predicted temperature is {y[0]:.2f} degree Fahrenheit\")"
      ],
      "execution_count": null,
      "outputs": [
        {
          "output_type": "stream",
          "text": [
            "Enter the number of cricket chirps  14.7\n",
            "\n",
            "\n",
            " The predicted temperature is 75.99 degree Fahrenheit\n"
          ],
          "name": "stdout"
        }
      ]
    }
  ]
}